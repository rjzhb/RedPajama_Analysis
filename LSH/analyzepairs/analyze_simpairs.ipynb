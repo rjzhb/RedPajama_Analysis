{
 "cells": [
  {
   "cell_type": "markdown",
   "id": "4b153fc2-7659-4913-9b65-6de1c8a61022",
   "metadata": {},
   "source": [
    "# Analyze Similar Pairs\n",
    "This small project will complete jobs below:\n",
    "1. Get all the similar pairs that output from LSH and SetJoin\n",
    "2. Analyze them (Know how many documents among them, verify if there is any false positive)\n",
    "3. Compare them (Is there any inclusion relationship)\n"
   ]
  },
  {
   "cell_type": "markdown",
   "id": "d16335f7-97e1-45b4-a7d8-6445915acdb0",
   "metadata": {},
   "source": [
    "## Load Similar Pairs"
   ]
  },
  {
   "cell_type": "code",
   "execution_count": 2,
   "id": "fe6601ab-79af-4b05-b8fb-5e03a3515f7f",
   "metadata": {
    "tags": []
   },
   "outputs": [
    {
     "name": "stderr",
     "output_type": "stream",
     "text": [
      "7840it [00:00, 320712.98it/s]\n",
      "7757it [00:00, 332270.02it/s]\n",
      "7336it [00:00, 338959.79it/s]\n",
      "7462it [00:00, 324838.83it/s]\n",
      "7411it [00:00, 328569.48it/s]\n",
      "7984it [00:00, 332080.43it/s]\n",
      "7410it [00:00, 331383.47it/s]\n",
      "7165it [00:00, 339722.46it/s]\n",
      "13347it [00:00, 321030.94it/s]\n"
     ]
    }
   ],
   "source": [
    "# Load From Slimpajama-LSH\n",
    "import tqdm\n",
    "from glob import glob\n",
    "import argparse\n",
    "import util\n",
    "# load from LSH\n",
    "dataset_name = \"arxiv\"\n",
    "thres = 0.8\n",
    "dup_dir_path = f\"/research/projects/zp128/RedPajama_Analysis/LSH/similar_pairs/{dataset_name}_{thres}/\"\n",
    "files = glob(f\"{dup_dir_path}/*\")\n",
    "simp_lsh = set()\n",
    "for fp in files:\n",
    "    with open(fp, \"r\") as f:\n",
    "        for line in tqdm.tqdm(f):\n",
    "            pair = tuple(line.strip().split(\" :: \"))\n",
    "            # pair = tuple([part.split(\"@\")[1] for part in ori_pair])\n",
    "            if pair[0] != pair[1]:\n",
    "                simp_lsh.add((int(pair[0]), int(pair[1])))\n",
    "\n",
    "simp_lsh = util.correct_pair_order(simp_lsh)\n"
   ]
  },
  {
   "cell_type": "code",
   "execution_count": 3,
   "id": "ced5e927-17cd-4c8f-bbc4-e3da67c7298a",
   "metadata": {},
   "outputs": [
    {
     "name": "stdout",
     "output_type": "stream",
     "text": [
      "/research/projects/zp128/RedPajama_Analysis/LSH/Lsh_C++/similar_pairs/arxiv_sim_pairs_0.800000_K128B9R13.bin\n"
     ]
    }
   ],
   "source": [
    "# Load From My LSH\n",
    "simp_dir_path = \"/research/projects/zp128/RedPajama_Analysis/LSH/Lsh_C++/similar_pairs\"\n",
    "file_prefix = f\"{dataset_name}_sim_pairs_{thres:.6f}\"\n",
    "\n",
    "simpairs_bin_path = util.find_file(simp_dir_path, file_prefix)\n",
    "print(simpairs_bin_path)\n",
    "idmap_bin_path = f\"/research/projects/zp128/RedPajama_Analysis/SetJoin/sorted_sets/{dataset_name}_idmap.bin\"\n",
    "idmap = util.read_ints_from_binary(idmap_bin_path)\n",
    "sim_pairs = util.read_pairs_from_binary(simpairs_bin_path)\n",
    "simp_mylsh = util.map_elements(sim_pairs, idmap)\n",
    "\n",
    "simp_mylsh = util.correct_pair_order(simp_mylsh)\n"
   ]
  },
  {
   "cell_type": "code",
   "execution_count": 6,
   "id": "932ef5b8-0dd0-4dd1-8078-9e91d2207a49",
   "metadata": {
    "tags": []
   },
   "outputs": [],
   "source": [
    "# load from SetJoin\n",
    "import util\n",
    "\n",
    "simpairs_bin_path = f\"/research/projects/zp128/RedPajama_Analysis/SetJoin/similar_pairs/{dataset_name}_sim_pairs_{thres:.6f}.bin\"\n",
    "idmap_bin_path = f\"/research/projects/zp128/RedPajama_Analysis/SetJoin/sorted_sets/{dataset_name}_idmap.bin\"\n",
    "\n",
    "idmap = util.read_ints_from_binary(idmap_bin_path)\n",
    "sim_pairs = util.read_pairs_from_binary(simpairs_bin_path)\n",
    "simp_setjoin = util.map_elements(sim_pairs, idmap)\n",
    "\n",
    "simp_setjoin = util.correct_pair_order(simp_setjoin)"
   ]
  },
  {
   "cell_type": "code",
   "execution_count": 15,
   "id": "4dac7417-d6a2-4d2d-b17c-afda5f0019a3",
   "metadata": {
    "tags": []
   },
   "outputs": [],
   "source": [
    "# load from OverlapJoin\n",
    "K = 32\n",
    "C = 29\n",
    "\n",
    "simpairs_bin_path = f\"/research/projects/zp128/RedPajama_Analysis/OverlapJoin/similar_pairs/{dataset_name}_simPair_K{K}_C{C}/sim_pairs.bin\"\n",
    "idmap_bin_path = f\"/research/projects/zp128/RedPajama_Analysis/OverlapJoin/similar_pairs/{dataset_name}_simPair_K{K}_C{C}/idmap.bin\"\n",
    "\n",
    "idmap = util.read_ints_from_binary(idmap_bin_path)\n",
    "sim_pairs = util.read_pairs_from_binary(simpairs_bin_path)\n",
    "simp_ovlp = util.map_elements(sim_pairs, idmap)\n",
    "\n",
    "simp_ovlp = util.correct_pair_order(simp_ovlp)"
   ]
  },
  {
   "cell_type": "markdown",
   "id": "997d02a9-6a43-4245-bb07-5411d93662a5",
   "metadata": {},
   "source": [
    "## Analyze them"
   ]
  },
  {
   "cell_type": "code",
   "execution_count": 4,
   "id": "beae8aa4-b7bf-4008-80d9-f83554bffa7c",
   "metadata": {
    "tags": []
   },
   "outputs": [],
   "source": [
    "# A function that can check the validity of the sim pairs whether meet the jaccard threshold requirement\n",
    "def check_jaccard_similarity(dataset, simp, thres):\n",
    "    # Go through each pair in simp_setjoin\n",
    "    total_invalid_pairs_amount = 0\n",
    "    for pair in simp:\n",
    "        # Calculate the Jaccard similarity of the two documents in the pair\n",
    "        jacc = util.jaccard_similarity(dataset[pair[0]], dataset[pair[1]])\n",
    "        if jacc < thres:\n",
    "#             print(jacc)\n",
    "            total_invalid_pairs_amount  = total_invalid_pairs_amount + 1\n",
    "    if total_invalid_pairs_amount == 0:\n",
    "        print(\"All pairs have Jaccard similarity >= thres\")\n",
    "    else:\n",
    "        print(f\"There are {total_invalid_pairs_amount} pairs among {len(simp)} pairs' similarity lower than threshold.\")"
   ]
  },
  {
   "cell_type": "code",
   "execution_count": 1,
   "id": "1de0e3b7-528e-4947-afd4-6954bd5cea8d",
   "metadata": {},
   "outputs": [
    {
     "ename": "NameError",
     "evalue": "name 'util' is not defined",
     "output_type": "error",
     "traceback": [
      "\u001b[0;31m---------------------------------------------------------------------------\u001b[0m",
      "\u001b[0;31mNameError\u001b[0m                                 Traceback (most recent call last)",
      "Cell \u001b[0;32mIn[1], line 5\u001b[0m\n\u001b[1;32m      2\u001b[0m \u001b[38;5;28;01mimport\u001b[39;00m \u001b[38;5;21;01mstruct\u001b[39;00m\n\u001b[1;32m      4\u001b[0m \u001b[38;5;66;03m# load the real documents\u001b[39;00m\n\u001b[0;32m----> 5\u001b[0m ids_setjoin \u001b[38;5;241m=\u001b[39m \u001b[43mutil\u001b[49m\u001b[38;5;241m.\u001b[39mextract_elements(simp_setjoin)\n\u001b[1;32m      6\u001b[0m \u001b[38;5;66;03m# docs_setjoin = util.read_pajama_dataset_selected_docs(dataset_name,ids_setjoin)\u001b[39;00m\n\u001b[1;32m      7\u001b[0m ids_setjoin_size \u001b[38;5;241m=\u001b[39m \u001b[38;5;28mlen\u001b[39m(ids_setjoin)\n",
      "\u001b[0;31mNameError\u001b[0m: name 'util' is not defined"
     ]
    }
   ],
   "source": [
    "# Load the documents of simp in setjoin\n",
    "# load the real documents\n",
    "ids_setjoin = util.extract_elements(simp_setjoin)\n",
    "# docs_setjoin = util.read_pajama_dataset_selected_docs(dataset_name,ids_setjoin)\n",
    "ids_setjoin_size = len(ids_setjoin)\n",
    "print(f\"Setjoin finds {ids_setjoin_size} unique documents.\")\n"
   ]
  },
  {
   "cell_type": "code",
   "execution_count": 6,
   "id": "11e87a15-ba33-4f30-8e74-91f26a5e9bf8",
   "metadata": {
    "tags": []
   },
   "outputs": [
    {
     "name": "stdout",
     "output_type": "stream",
     "text": [
      "There are total 1558306 documents in this /research/projects/zp128/RedPajama-Data-1T/RedPajama-Data-1T/arxiv/tokenized_text_document.idx\n",
      "LSH Method finds 25387 unique documents.\n",
      "There are 9808 pairs among 20819 pairs' similarity lower than threshold.\n"
     ]
    }
   ],
   "source": [
    "# Load the documents of simp in Slimpajama-LSH\n",
    "ids_lsh = util.extract_elements(simp_lsh)\n",
    "docs_lsh = util.read_pajama_dataset_selected_docs(dataset_name,ids_lsh)\n",
    "ids_lsh_size = len(ids_lsh)\n",
    "print(f\"LSH Method finds {ids_lsh_size} unique documents.\")\n",
    "check_jaccard_similarity(docs_lsh,simp_lsh, thres )"
   ]
  },
  {
   "cell_type": "code",
   "execution_count": 4,
   "id": "0254eb80-9e99-4a29-a7d7-8358240e58ae",
   "metadata": {
    "tags": []
   },
   "outputs": [
    {
     "name": "stdout",
     "output_type": "stream",
     "text": [
      "C++'s LSH Method finds 77084 unique documents.\n"
     ]
    }
   ],
   "source": [
    "# Load the documents of simp in My-LSH\n",
    "ids_mylsh = util.extract_elements(simp_mylsh)\n",
    "# docs_mylsh = util.read_pajama_dataset_selected_docs(dataset_name,ids_mylsh)\n",
    "ids_mylsh_size = len(ids_mylsh)\n",
    "print(f\"C++'s LSH Method finds {ids_mylsh_size} unique documents.\")\n",
    "# check_jaccard_similarity(docs_mylsh,simp_mylsh, thres )"
   ]
  },
  {
   "cell_type": "code",
   "execution_count": 19,
   "id": "04db15f2-61bc-4762-934e-5b950fbc8537",
   "metadata": {
    "tags": []
   },
   "outputs": [
    {
     "name": "stdout",
     "output_type": "stream",
     "text": [
      "There are total 1558306 documents in this /research/projects/zp128/RedPajama-Data-1T/RedPajama-Data-1T/arxiv/tokenized_text_document.idx\n",
      "OverlapJoin Method finds 6034 unique documents.\n",
      "There are 2873 pairs among 30903 pairs' similarity lower than threshold.\n"
     ]
    }
   ],
   "source": [
    "# Load the documents of simp in OverlapJoin\n",
    "ids_ovlp = util.extract_elements(simp_ovlp)\n",
    "docs_ovlp = util.read_pajama_dataset_selected_docs(dataset_name,ids_ovlp)\n",
    "ids_ovlp_size = len(ids_ovlp)\n",
    "print(f\"OverlapJoin Method finds {ids_ovlp_size} unique documents.\")\n",
    "check_jaccard_similarity(docs_ovlp,simp_ovlp, thres )"
   ]
  },
  {
   "cell_type": "markdown",
   "id": "5fe985c1-5e91-4e73-8c06-00b38d6b3cb4",
   "metadata": {
    "tags": []
   },
   "source": [
    "## Compare them"
   ]
  },
  {
   "cell_type": "markdown",
   "id": "6d7f2c7d-bbc1-4145-b150-a723dee7a459",
   "metadata": {
    "tags": []
   },
   "source": [
    "### SetJoin VS LSH"
   ]
  },
  {
   "cell_type": "code",
   "execution_count": 35,
   "id": "957133da-f285-463c-a9f8-dc49fe075dd0",
   "metadata": {
    "tags": []
   },
   "outputs": [
    {
     "name": "stdout",
     "output_type": "stream",
     "text": [
      "Now Analyze the property of there similar pairs\n",
      "There are 3285654 pairs in simp_setjoin\n",
      "There are 8010 pairs in simp_lsh\n",
      "The union of two sets includes 3285992 unique pairs.\n",
      "The intersection of two sets includes 7672 common pairs.\n",
      "The difference  of two sets(B - A) includes 3277982 different pairs.\n"
     ]
    }
   ],
   "source": [
    "print(\"Now Analyze the property of there similar pairs\")\n",
    "print(f\"There are {len(simp_setjoin)} pairs in simp_setjoin\")\n",
    "print(f\"There are {len(simp_lsh)} pairs in simp_lsh\")\n",
    "\n",
    "union_set = simp_setjoin.union(simp_lsh)\n",
    "union_size = len(union_set)\n",
    "print(f\"The union of two sets includes {union_size} unique pairs.\")\n",
    "\n",
    "# Intersection\n",
    "intersection_set = simp_setjoin.intersection(simp_lsh)\n",
    "intersection_size = len(intersection_set)\n",
    "print(f\"The intersection of two sets includes {intersection_size} common pairs.\")\n",
    "\n",
    "# Difference\n",
    "difference_set = simp_setjoin.difference(simp_lsh)  # B - A\n",
    "difference_size = len(difference_set)\n",
    "print(f\"The difference  of two sets(B - A) includes {difference_size} different pairs.\")\n"
   ]
  },
  {
   "cell_type": "code",
   "execution_count": 36,
   "id": "f4d3a575-c1b3-4193-bac8-bc2f89b3f073",
   "metadata": {},
   "outputs": [
    {
     "name": "stdout",
     "output_type": "stream",
     "text": [
      "Now Analyze the property of their documents\n",
      "There are 8333 documents in simp_setjoin\n",
      "There are 8293 documents in simp_lsh\n",
      "The union of two sets includes 8610 documents.\n",
      "The intersection of two sets includes 8016 common documents.\n",
      "The difference  of two sets(B - A) includes 317 different documents.\n",
      "The difference  of two sets(A - B) includes 277 different documents.\n"
     ]
    }
   ],
   "source": [
    "print(\"Now Analyze the property of their documents\")\n",
    "print(f\"There are {len(ids_setjoin)} documents in simp_setjoin\")\n",
    "print(f\"There are {len(ids_lsh)} documents in simp_lsh\")\n",
    "\n",
    "union_set = ids_setjoin.union(ids_lsh)\n",
    "union_size = len(union_set)\n",
    "print(f\"The union of two sets includes {union_size} documents.\")\n",
    "\n",
    "# Intersection\n",
    "intersection_set = ids_setjoin.intersection(ids_lsh)\n",
    "intersection_size = len(intersection_set)\n",
    "print(f\"The intersection of two sets includes {intersection_size} common documents.\")\n",
    "\n",
    "# Difference\n",
    "difference_set = ids_setjoin.difference(ids_lsh)  # B - A\n",
    "difference_size = len(difference_set)\n",
    "print(f\"The difference  of two sets(B - A) includes {difference_size} different documents.\")\n",
    "\n",
    "# Difference\n",
    "difference_set = ids_lsh.difference(ids_setjoin)  # B - A\n",
    "difference_size = len(difference_set)\n",
    "print(f\"The difference  of two sets(A - B) includes {difference_size} different documents.\")"
   ]
  },
  {
   "cell_type": "markdown",
   "id": "98da3b08-e208-4745-b2ce-9366e1eb94b4",
   "metadata": {},
   "source": [
    "### SetJoin vs OverlapJoin"
   ]
  },
  {
   "cell_type": "code",
   "execution_count": 28,
   "id": "3ecf8ae7-ef40-45f9-b94f-fcd92ba496c5",
   "metadata": {
    "tags": []
   },
   "outputs": [
    {
     "name": "stdout",
     "output_type": "stream",
     "text": [
      "Now Analyze the property of there similar pairs\n",
      "There are 3319410 pairs in simp_setjoin\n",
      "There are 30903 pairs in simp_ovlp\n",
      "The union of two sets includes 3322770 unique pairs.\n",
      "The intersection of two sets includes 27543 common pairs.\n",
      "The difference  of two sets(B - A) includes 3291867 different pairs.\n"
     ]
    }
   ],
   "source": [
    "print(\"Now Analyze the property of there similar pairs\")\n",
    "print(f\"There are {len(simp_setjoin)} pairs in simp_setjoin\")\n",
    "print(f\"There are {len(simp_ovlp)} pairs in simp_ovlp\")\n",
    "\n",
    "union_set = simp_setjoin.union(simp_ovlp)\n",
    "union_size = len(union_set)\n",
    "print(f\"The union of two sets includes {union_size} unique pairs.\")\n",
    "\n",
    "# Intersection\n",
    "intersection_set = simp_setjoin.intersection(simp_ovlp)\n",
    "intersection_size = len(intersection_set)\n",
    "print(f\"The intersection of two sets includes {intersection_size} common pairs.\")\n",
    "\n",
    "# Difference\n",
    "difference_set = simp_setjoin.difference(simp_ovlp)  # B - A\n",
    "difference_size = len(difference_set)\n",
    "print(f\"The difference  of two sets(B - A) includes {difference_size} different pairs.\")"
   ]
  },
  {
   "cell_type": "code",
   "execution_count": 29,
   "id": "1011ec68-6145-470a-a0d2-69dfcba61987",
   "metadata": {
    "tags": []
   },
   "outputs": [
    {
     "name": "stdout",
     "output_type": "stream",
     "text": [
      "Now Analyze the property of their documents\n",
      "There are 10695 documents in simp_setjoin\n",
      "There are 6034 documents in simp_ovlp\n",
      "The union of two sets includes 12664 documents.\n",
      "The intersection of two sets includes 4065 common documents.\n",
      "The difference  of two sets(B - A) includes 6630 different documents.\n",
      "The difference  of two sets(A - B) includes 1969 different documents.\n"
     ]
    }
   ],
   "source": [
    "print(\"Now Analyze the property of their documents\")\n",
    "print(f\"There are {len(ids_setjoin)} documents in simp_setjoin\")\n",
    "print(f\"There are {len(ids_ovlp)} documents in simp_ovlp\")\n",
    "\n",
    "union_set = ids_setjoin.union(ids_ovlp)\n",
    "union_size = len(union_set)\n",
    "print(f\"The union of two sets includes {union_size} documents.\")\n",
    "\n",
    "# Intersection\n",
    "intersection_set = ids_setjoin.intersection(ids_ovlp)\n",
    "intersection_size = len(intersection_set)\n",
    "print(f\"The intersection of two sets includes {intersection_size} common documents.\")\n",
    "\n",
    "# Difference\n",
    "difference_set = ids_setjoin.difference(ids_ovlp)  # B - A\n",
    "difference_size = len(difference_set)\n",
    "print(f\"The difference  of two sets(B - A) includes {difference_size} different documents.\")\n",
    "\n",
    "# Difference\n",
    "difference_set = ids_ovlp.difference(ids_setjoin)  # B - A\n",
    "difference_size = len(difference_set)\n",
    "print(f\"The difference  of two sets(A - B) includes {difference_size} different documents.\")"
   ]
  },
  {
   "cell_type": "markdown",
   "id": "ae0f46ce-4494-424a-a61b-caea1838855b",
   "metadata": {},
   "source": [
    "### My LSH vs Slimpjama-lSH"
   ]
  },
  {
   "cell_type": "code",
   "execution_count": null,
   "id": "0e0818e3-145c-4fb8-86de-619018d78773",
   "metadata": {},
   "outputs": [],
   "source": [
    "print(\"Only Analyze the property of their documents\")\n",
    "print(f\"There are {len(ids_mylsh)} documents in ids_mylsh\")\n",
    "print(f\"There are {len(ids_lsh)} documents in ids_lsh\")\n",
    "\n",
    "union_set = ids_mylsh.union(ids_lsh)\n",
    "union_size = len(union_set)\n",
    "print(f\"The union of two sets includes {union_size} documents.\")\n",
    "\n",
    "# Intersection\n",
    "intersection_set = ids_mylsh.intersection(ids_lsh)\n",
    "intersection_size = len(intersection_set)\n",
    "print(f\"The intersection of two sets includes {intersection_size} common documents.\")\n",
    "\n",
    "# Difference\n",
    "difference_set = ids_mylsh.difference(ids_lsh)  # B - A\n",
    "difference_size = len(difference_set)\n",
    "print(f\"The difference  of two sets(B - A) includes {difference_size} different documents.\")\n",
    "\n",
    "# Difference\n",
    "difference_set = ids_lsh.difference(ids_mylsh)  # B - A\n",
    "difference_size = len(difference_set)\n",
    "print(f\"The difference  of two sets(A - B) includes {difference_size} different documents.\")"
   ]
  },
  {
   "cell_type": "markdown",
   "id": "c2d5ba2c-fc84-48ad-a6c5-e13615f1469d",
   "metadata": {},
   "source": [
    "### SetJoin vs MyLSH"
   ]
  },
  {
   "cell_type": "code",
   "execution_count": 8,
   "id": "ae13eaf6-e149-44cf-9081-e904d8e683a1",
   "metadata": {
    "tags": []
   },
   "outputs": [
    {
     "name": "stdout",
     "output_type": "stream",
     "text": [
      "Now Analyze the property of there similar pairs\n",
      "There are 3319410 pairs in simp_setjoin\n",
      "There are 3403710 pairs in simp_mylsh\n",
      "The union of two sets includes 3417425 unique pairs.\n",
      "The intersection of two sets includes 3305695 common pairs.\n",
      "The difference  of two sets(B - A) includes 13715 different pairs.\n",
      "The difference  of two sets(A - B) includes 98015 different pairs.\n"
     ]
    }
   ],
   "source": [
    "print(\"Now Analyze the property of there similar pairs\")\n",
    "print(f\"There are {len(simp_setjoin)} pairs in simp_setjoin\")\n",
    "print(f\"There are {len(simp_mylsh)} pairs in simp_mylsh\")\n",
    "\n",
    "union_set = simp_setjoin.union(simp_mylsh)\n",
    "union_size = len(union_set)\n",
    "print(f\"The union of two sets includes {union_size} unique pairs.\")\n",
    "\n",
    "# Intersection\n",
    "intersection_set = simp_setjoin.intersection(simp_mylsh)\n",
    "intersection_size = len(intersection_set)\n",
    "print(f\"The intersection of two sets includes {intersection_size} common pairs.\")\n",
    "\n",
    "# Difference\n",
    "difference_set = simp_setjoin.difference(simp_mylsh)  # B - A\n",
    "difference_size = len(difference_set)\n",
    "print(f\"The difference  of two sets(B - A) includes {difference_size} different pairs.\")\n",
    "\n",
    "# Difference\n",
    "difference_set = simp_mylsh.difference(simp_setjoin)  # A - B\n",
    "difference_size = len(difference_set)\n",
    "print(f\"The difference  of two sets(A - B) includes {difference_size} different pairs.\")"
   ]
  },
  {
   "cell_type": "code",
   "execution_count": 9,
   "id": "b639a02b-ab65-48d0-b3b4-409b4d7d8c89",
   "metadata": {
    "tags": []
   },
   "outputs": [
    {
     "name": "stdout",
     "output_type": "stream",
     "text": [
      "Now Analyze the property of their documents\n",
      "There are 10695 documents in simp_setjoin\n",
      "There are 77084 documents in simp_mylsh\n",
      "The union of two sets includes 77809 documents.\n",
      "The intersection of two sets includes 9970 common documents.\n",
      "The difference  of two sets(B - A) includes 725 different documents.\n",
      "The difference  of two sets(A - B) includes 67114 different documents.\n"
     ]
    }
   ],
   "source": [
    "print(\"Now Analyze the property of their documents\")\n",
    "print(f\"There are {len(ids_setjoin)} documents in simp_setjoin\")\n",
    "print(f\"There are {len(ids_mylsh)} documents in simp_mylsh\")\n",
    "\n",
    "union_set = ids_setjoin.union(ids_mylsh)\n",
    "union_size = len(union_set)\n",
    "print(f\"The union of two sets includes {union_size} documents.\")\n",
    "\n",
    "# Intersection\n",
    "intersection_set = ids_setjoin.intersection(ids_mylsh)\n",
    "intersection_size = len(intersection_set)\n",
    "print(f\"The intersection of two sets includes {intersection_size} common documents.\")\n",
    "\n",
    "# Difference\n",
    "difference_set = ids_setjoin.difference(ids_mylsh)  # B - A\n",
    "difference_size = len(difference_set)\n",
    "print(f\"The difference  of two sets(B - A) includes {difference_size} different documents.\")\n",
    "\n",
    "# Difference\n",
    "difference_set = ids_mylsh.difference(ids_setjoin)  # B - A\n",
    "difference_size = len(difference_set)\n",
    "print(f\"The difference  of two sets(A - B) includes {difference_size} different documents.\")"
   ]
  },
  {
   "cell_type": "code",
   "execution_count": null,
   "id": "ba64314f-8b44-4520-99c6-68240d21fb48",
   "metadata": {},
   "outputs": [],
   "source": []
  }
 ],
 "metadata": {
  "kernelspec": {
   "display_name": "Python 3 (ipykernel)",
   "language": "python",
   "name": "python3"
  },
  "language_info": {
   "codemirror_mode": {
    "name": "ipython",
    "version": 3
   },
   "file_extension": ".py",
   "mimetype": "text/x-python",
   "name": "python",
   "nbconvert_exporter": "python",
   "pygments_lexer": "ipython3",
   "version": "3.10.8"
  }
 },
 "nbformat": 4,
 "nbformat_minor": 5
}
