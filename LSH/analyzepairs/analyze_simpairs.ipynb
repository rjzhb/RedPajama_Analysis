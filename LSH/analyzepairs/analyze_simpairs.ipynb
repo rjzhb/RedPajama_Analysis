{
 "cells": [
  {
   "cell_type": "markdown",
   "id": "4b153fc2-7659-4913-9b65-6de1c8a61022",
   "metadata": {},
   "source": [
    "# Analyze Similar Pairs\n",
    "This small project will complete jobs below:\n",
    "1. Get all the similar pairs that output from LSH and SetJoin\n",
    "2. Analyze them (Know how many documents among them, verify if there is any false positive)\n",
    "3. Compare them (Is there any inclusion relationship)\n"
   ]
  },
  {
   "cell_type": "markdown",
   "id": "d16335f7-97e1-45b4-a7d8-6445915acdb0",
   "metadata": {},
   "source": [
    "## Load Similar Pairs"
   ]
  },
  {
   "cell_type": "code",
   "execution_count": 10,
   "id": "fe6601ab-79af-4b05-b8fb-5e03a3515f7f",
   "metadata": {
    "tags": []
   },
   "outputs": [
    {
     "name": "stderr",
     "output_type": "stream",
     "text": [
      "7349it [00:00, 175442.05it/s]\n",
      "7223it [00:00, 183165.91it/s]\n",
      "7405it [00:00, 186342.49it/s]\n",
      "7430it [00:00, 172445.60it/s]\n",
      "7314it [00:00, 58968.08it/s]\n",
      "7316it [00:00, 57421.49it/s]\n",
      "7234it [00:00, 224626.10it/s]\n",
      "7317it [00:00, 108846.56it/s]\n",
      "7458it [00:00, 140151.52it/s]\n"
     ]
    }
   ],
   "source": [
    "import tqdm\n",
    "from glob import glob\n",
    "import argparse\n",
    "\n",
    "# load from LSH\n",
    "\n",
    "dup_dir_path = \"/research/projects/zp128/RedPajama-Data-1T/RedPajama-Data-1T/RedPajama_norm/dup\"\n",
    "files = glob(f\"{dup_dir_path}/*\")\n",
    "simp_lsh = set()\n",
    "for fp in files:\n",
    "    with open(fp, \"r\") as f:\n",
    "        for line in tqdm.tqdm(f):\n",
    "            ori_pair = tuple(line.strip().split(\" :: \"))\n",
    "            pair = tuple([part.split(\"@\")[1] for part in ori_pair])\n",
    "            if pair[0] != pair[1]:\n",
    "                simp_lsh.add((int(pair[0]), int(pair[1])))\n",
    "\n",
    "\n"
   ]
  },
  {
   "cell_type": "code",
   "execution_count": 11,
   "id": "932ef5b8-0dd0-4dd1-8078-9e91d2207a49",
   "metadata": {
    "tags": []
   },
   "outputs": [],
   "source": [
    "# load from SetJoin\n",
    "import util\n",
    "simpairs_bin_path = \"/research/projects/zp128/RedPajama_Analysis/SetJoin/similar_pairs/stackexchange_sim_pairs_0.800000.bin\"\n",
    "idmap_bin_path = \"/research/projects/zp128/RedPajama_Analysis/SetJoin/sorted_sets/stackexchange_idmap.bin\"\n",
    "\n",
    "idmap = util.read_ints_from_binary(idmap_bin_path)\n",
    "sim_pairs = util.read_pairs_from_binary(simpairs_bin_path)\n",
    "simp_setjoin = util.map_elements(sim_pairs, idmap)\n",
    "\n",
    "simp_setjoin = util.correct_pair_order(simp_setjoin)\n",
    "simp_lsh = util.correct_pair_order(simp_lsh)"
   ]
  },
  {
   "cell_type": "markdown",
   "id": "997d02a9-6a43-4245-bb07-5411d93662a5",
   "metadata": {},
   "source": [
    "## Analyze them"
   ]
  },
  {
   "cell_type": "code",
   "execution_count": 12,
   "id": "1de0e3b7-528e-4947-afd4-6954bd5cea8d",
   "metadata": {},
   "outputs": [
    {
     "name": "stdout",
     "output_type": "stream",
     "text": [
      "There are total 29825086 documents in this /research/projects/zp128/RedPajama-Data-1T/RedPajama-Data-1T/stackexchange/tokenized_text_document.idx\n",
      "IT includes 44793 unique pairs.\n"
     ]
    }
   ],
   "source": [
    "import struct\n",
    "thres = 0.8\n",
    "# load the real documents\n",
    "ids_setjoin = util.extract_elements(simp_setjoin)\n",
    "dataset = util.read_pajama_dataset_selected_docs(\"stackexchange\",ids_setjoin)\n",
    "ids_setjoin_size = len(ids_setjoin)\n",
    "print(f\"IT includes {ids_setjoin_size} unique pairs.\")\n"
   ]
  },
  {
   "cell_type": "code",
   "execution_count": 13,
   "id": "11e87a15-ba33-4f30-8e74-91f26a5e9bf8",
   "metadata": {
    "tags": []
   },
   "outputs": [
    {
     "name": "stdout",
     "output_type": "stream",
     "text": [
      "There are total 29825086 documents in this /research/projects/zp128/RedPajama-Data-1T/RedPajama-Data-1T/stackexchange/tokenized_text_document.idx\n",
      "IT includes 32104 unique pairs.\n"
     ]
    },
    {
     "ename": "TypeError",
     "evalue": "'int' object is not subscriptable",
     "output_type": "error",
     "traceback": [
      "\u001b[0;31m---------------------------------------------------------------------------\u001b[0m",
      "\u001b[0;31mTypeError\u001b[0m                                 Traceback (most recent call last)",
      "\u001b[0;32m<ipython-input-13-3ab4a33fba10>\u001b[0m in \u001b[0;36m<module>\u001b[0;34m\u001b[0m\n\u001b[1;32m      5\u001b[0m \u001b[0mids_lsh_size\u001b[0m \u001b[0;34m=\u001b[0m \u001b[0mlen\u001b[0m\u001b[0;34m(\u001b[0m\u001b[0mids_lsh\u001b[0m\u001b[0;34m)\u001b[0m\u001b[0;34m\u001b[0m\u001b[0;34m\u001b[0m\u001b[0m\n\u001b[1;32m      6\u001b[0m \u001b[0mprint\u001b[0m\u001b[0;34m(\u001b[0m\u001b[0;34mf\"IT includes {ids_lsh_size} unique pairs.\"\u001b[0m\u001b[0;34m)\u001b[0m\u001b[0;34m\u001b[0m\u001b[0;34m\u001b[0m\u001b[0m\n\u001b[0;32m----> 7\u001b[0;31m \u001b[0mutil\u001b[0m\u001b[0;34m.\u001b[0m\u001b[0mcheck_jaccard_similarity\u001b[0m\u001b[0;34m(\u001b[0m\u001b[0mdataset\u001b[0m\u001b[0;34m,\u001b[0m\u001b[0mids_lsh\u001b[0m\u001b[0;34m,\u001b[0m \u001b[0mthres\u001b[0m \u001b[0;34m)\u001b[0m\u001b[0;34m\u001b[0m\u001b[0;34m\u001b[0m\u001b[0m\n\u001b[0m",
      "\u001b[0;32m/research/projects/zp128/RedPajama_Analysis/LSH/analyzepairs/util.py\u001b[0m in \u001b[0;36mcheck_jaccard_similarity\u001b[0;34m(dataset, simp, thres)\u001b[0m\n\u001b[1;32m    140\u001b[0m     \u001b[0;32mfor\u001b[0m \u001b[0mpair\u001b[0m \u001b[0;32min\u001b[0m \u001b[0msimp\u001b[0m\u001b[0;34m:\u001b[0m\u001b[0;34m\u001b[0m\u001b[0;34m\u001b[0m\u001b[0m\n\u001b[1;32m    141\u001b[0m         \u001b[0;31m# Calculate the Jaccard similarity of the two documents in the pair\u001b[0m\u001b[0;34m\u001b[0m\u001b[0;34m\u001b[0m\u001b[0;34m\u001b[0m\u001b[0m\n\u001b[0;32m--> 142\u001b[0;31m         \u001b[0;32mif\u001b[0m \u001b[0mjaccard_similarity\u001b[0m\u001b[0;34m(\u001b[0m\u001b[0mdataset\u001b[0m\u001b[0;34m[\u001b[0m\u001b[0mpair\u001b[0m\u001b[0;34m[\u001b[0m\u001b[0;36m0\u001b[0m\u001b[0;34m]\u001b[0m\u001b[0;34m]\u001b[0m\u001b[0;34m,\u001b[0m \u001b[0mdataset\u001b[0m\u001b[0;34m[\u001b[0m\u001b[0mpair\u001b[0m\u001b[0;34m[\u001b[0m\u001b[0;36m1\u001b[0m\u001b[0;34m]\u001b[0m\u001b[0;34m]\u001b[0m\u001b[0;34m)\u001b[0m \u001b[0;34m<\u001b[0m \u001b[0mthres\u001b[0m\u001b[0;34m:\u001b[0m\u001b[0;34m\u001b[0m\u001b[0;34m\u001b[0m\u001b[0m\n\u001b[0m\u001b[1;32m    143\u001b[0m             \u001b[0mprint\u001b[0m\u001b[0;34m(\u001b[0m\u001b[0;34m\"Error\"\u001b[0m\u001b[0;34m)\u001b[0m\u001b[0;34m\u001b[0m\u001b[0;34m\u001b[0m\u001b[0m\n\u001b[1;32m    144\u001b[0m             \u001b[0;32mreturn\u001b[0m \u001b[0;32mFalse\u001b[0m  \u001b[0;31m# If you want to stop at the first error\u001b[0m\u001b[0;34m\u001b[0m\u001b[0;34m\u001b[0m\u001b[0m\n",
      "\u001b[0;31mTypeError\u001b[0m: 'int' object is not subscriptable"
     ]
    }
   ],
   "source": [
    "thres = 0.8\n",
    "\n",
    "ids_lsh = util.extract_elements(simp_lsh)\n",
    "dataset = util.read_pajama_dataset_selected_docs(\"stackexchange\",ids_lsh)\n",
    "ids_lsh_size = len(ids_lsh)\n",
    "print(f\"IT includes {ids_lsh_size} unique pairs.\")\n",
    "util.check_jaccard_similarity(dataset,simp_lsh, thres )"
   ]
  },
  {
   "cell_type": "code",
   "execution_count": 22,
   "id": "58eee15e-8600-4b4d-bd46-1baa2a91650d",
   "metadata": {},
   "outputs": [],
   "source": [
    "def check_jaccard_similarity_(dataset, simp, thres):\n",
    "    # Go through each pair in simp_setjoin\n",
    "    for pair in simp:\n",
    "        # Calculate the Jaccard similarity of the two documents in the pair\n",
    "        jacc = util.jaccard_similarity(dataset[pair[0]], dataset[pair[1]])\n",
    "        if jacc < thres:\n",
    "            print(jacc)\n",
    "#             return False  # If you want to stop at the first error\n",
    "    print(\"All pairs have Jaccard similarity >= thres\")\n",
    "    return True  # If all pairs pass the check\n"
   ]
  },
  {
   "cell_type": "code",
   "execution_count": 23,
   "id": "67ae5088-00e7-446e-896b-4545c2527252",
   "metadata": {},
   "outputs": [
    {
     "name": "stdout",
     "output_type": "stream",
     "text": [
      "0.625\n"
     ]
    },
    {
     "data": {
      "text/plain": [
       "False"
      ]
     },
     "execution_count": 23,
     "metadata": {},
     "output_type": "execute_result"
    }
   ],
   "source": [
    "check_jaccard_similarity_(dataset,simp_lsh, thres )"
   ]
  },
  {
   "cell_type": "markdown",
   "id": "5fe985c1-5e91-4e73-8c06-00b38d6b3cb4",
   "metadata": {},
   "source": [
    "## Compare them"
   ]
  },
  {
   "cell_type": "code",
   "execution_count": 11,
   "id": "957133da-f285-463c-a9f8-dc49fe075dd0",
   "metadata": {
    "tags": []
   },
   "outputs": [
    {
     "name": "stdout",
     "output_type": "stream",
     "text": [
      "The union of two sets includes 49339 unique pairs.\n",
      "The intersection of two sets includes 0 common pairs.\n",
      "The intersection of two sets includes 31950 common pairs.\n"
     ]
    }
   ],
   "source": [
    "union_set = simp_setjoin.union(simp_lsh)\n",
    "union_size = len(union_set)\n",
    "print(f\"The union of two sets includes {union_size} unique pairs.\")\n",
    "\n",
    "# Intersection\n",
    "intersection_set = simp_setjoin.intersection(simp_lsh)\n",
    "intersection_size = len(intersection_set)\n",
    "print(f\"The intersection of two sets includes {intersection_size} common pairs.\")\n",
    "\n",
    "# Difference\n",
    "difference_set = simp_setjoin.difference(simp_lsh)  # B - A\n",
    "difference_size = len(difference_set)\n",
    "print(f\"The difference  of two sets(B - A) includes {difference_size} common pairs.\")\n"
   ]
  },
  {
   "cell_type": "code",
   "execution_count": null,
   "id": "f4d3a575-c1b3-4193-bac8-bc2f89b3f073",
   "metadata": {},
   "outputs": [],
   "source": []
  }
 ],
 "metadata": {
  "kernelspec": {
   "display_name": "Python 3",
   "language": "python",
   "name": "python3"
  },
  "language_info": {
   "codemirror_mode": {
    "name": "ipython",
    "version": 3
   },
   "file_extension": ".py",
   "mimetype": "text/x-python",
   "name": "python",
   "nbconvert_exporter": "python",
   "pygments_lexer": "ipython3",
   "version": "3.9.5"
  }
 },
 "nbformat": 4,
 "nbformat_minor": 5
}
