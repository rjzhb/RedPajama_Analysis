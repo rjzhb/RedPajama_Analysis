{
 "cells": [
  {
   "cell_type": "markdown",
   "id": "4b153fc2-7659-4913-9b65-6de1c8a61022",
   "metadata": {},
   "source": [
    "# Analyze Similar Pairs\n",
    "This small project will complete jobs below:\n",
    "1. Get all the similar pairs that output from LSH and SetJoin\n",
    "2. Analyze them (Know how many documents among them, verify if there is any false positive)\n",
    "3. Compare them (Is there any inclusion relationship)\n"
   ]
  },
  {
   "cell_type": "markdown",
   "id": "d16335f7-97e1-45b4-a7d8-6445915acdb0",
   "metadata": {},
   "source": [
    "## Load Similar Pairs"
   ]
  },
  {
   "cell_type": "code",
   "execution_count": 6,
   "id": "fe6601ab-79af-4b05-b8fb-5e03a3515f7f",
   "metadata": {
    "tags": []
   },
   "outputs": [
    {
     "name": "stderr",
     "output_type": "stream",
     "text": [
      "7349it [00:00, 226781.69it/s]\n",
      "7223it [00:00, 212022.41it/s]\n",
      "7405it [00:00, 217806.85it/s]\n",
      "7430it [00:00, 224612.80it/s]\n",
      "7314it [00:00, 178313.99it/s]\n",
      "7316it [00:00, 311759.25it/s]\n",
      "7234it [00:00, 215721.04it/s]\n",
      "7317it [00:00, 211513.22it/s]\n",
      "7458it [00:00, 218796.52it/s]\n"
     ]
    }
   ],
   "source": [
    "import tqdm\n",
    "from glob import glob\n",
    "import argparse\n",
    "\n",
    "# load from LSH\n",
    "\n",
    "dup_dir_path = \"/research/projects/zp128/RedPajama-Data-1T/RedPajama-Data-1T/RedPajama_norm/dup\"\n",
    "files = glob(f\"{dup_dir_path}/*\")\n",
    "simp_lsh = set()\n",
    "for fp in files:\n",
    "    with open(fp, \"r\") as f:\n",
    "        for line in tqdm.tqdm(f):\n",
    "            ori_pair = tuple(line.strip().split(\" :: \"))\n",
    "            pair = tuple([part.split(\"@\")[1] for part in ori_pair])\n",
    "            if pair[0] != pair[1]:\n",
    "                simp_lsh.add(pair)\n",
    "\n",
    "\n"
   ]
  },
  {
   "cell_type": "code",
   "execution_count": 1,
   "id": "932ef5b8-0dd0-4dd1-8078-9e91d2207a49",
   "metadata": {
    "tags": []
   },
   "outputs": [],
   "source": [
    "# load from SetJoin\n",
    "import util\n",
    "simpairs_bin_path = \"/research/projects/zp128/RedPajama_Analysis/SetJoin/similar_pairs/stackexchange_sim_pairs_0.800000.bin\"\n",
    "idmap_bin_path = \"/research/projects/zp128/RedPajama_Analysis/SetJoin/sorted_sets/stackexchange_idmap.bin\"\n",
    "\n",
    "idmap = util.read_ints_from_binary(idmap_bin_path)\n",
    "sim_pairs = util.read_pairs_from_binary(simpairs_bin_path)\n",
    "simp_setjoin = util.map_elements(sim_pairs, idmap)\n",
    "\n",
    "simp_setjoin = correct_pair_order(simp_setjoin)\n",
    "simp_lsh = correct_pair_order(simp_lsh)"
   ]
  },
  {
   "cell_type": "markdown",
   "id": "997d02a9-6a43-4245-bb07-5411d93662a5",
   "metadata": {},
   "source": [
    "## Analyze them"
   ]
  },
  {
   "cell_type": "code",
   "execution_count": null,
   "id": "1de0e3b7-528e-4947-afd4-6954bd5cea8d",
   "metadata": {},
   "outputs": [],
   "source": [
    "# load the real documents\n",
    "\n"
   ]
  },
  {
   "cell_type": "markdown",
   "id": "5fe985c1-5e91-4e73-8c06-00b38d6b3cb4",
   "metadata": {},
   "source": [
    "## Compare them"
   ]
  },
  {
   "cell_type": "code",
   "execution_count": 11,
   "id": "957133da-f285-463c-a9f8-dc49fe075dd0",
   "metadata": {},
   "outputs": [
    {
     "name": "stdout",
     "output_type": "stream",
     "text": [
      "The union of two sets includes 49339 unique pairs.\n",
      "The intersection of two sets includes 0 common pairs.\n",
      "The intersection of two sets includes 31950 common pairs.\n"
     ]
    }
   ],
   "source": [
    "union_set = simp_setjoin.union(simp_lsh)\n",
    "union_size = len(union_set)\n",
    "print(f\"The union of two sets includes {union_size} unique pairs.\")\n",
    "\n",
    "# Intersection\n",
    "intersection_set = simp_setjoin.intersection(simp_lsh)\n",
    "intersection_size = len(intersection_set)\n",
    "print(f\"The intersection of two sets includes {intersection_size} common pairs.\")\n",
    "\n",
    "# Difference\n",
    "difference_set = simp_setjoin.difference(simp_lsh)  # B - A\n",
    "difference_size = len(difference_set)\n",
    "print(f\"The difference  of two sets(B - A) includes {difference_size} common pairs.\")\n"
   ]
  },
  {
   "cell_type": "code",
   "execution_count": null,
   "id": "f4d3a575-c1b3-4193-bac8-bc2f89b3f073",
   "metadata": {},
   "outputs": [],
   "source": []
  }
 ],
 "metadata": {
  "kernelspec": {
   "display_name": "Python 3",
   "language": "python",
   "name": "python3"
  },
  "language_info": {
   "codemirror_mode": {
    "name": "ipython",
    "version": 3
   },
   "file_extension": ".py",
   "mimetype": "text/x-python",
   "name": "python",
   "nbconvert_exporter": "python",
   "pygments_lexer": "ipython3",
   "version": "3.9.5"
  }
 },
 "nbformat": 4,
 "nbformat_minor": 5
}
