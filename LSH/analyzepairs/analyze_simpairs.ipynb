{
 "cells": [
  {
   "cell_type": "markdown",
   "id": "4b153fc2-7659-4913-9b65-6de1c8a61022",
   "metadata": {},
   "source": [
    "# Analyze Similar Pairs\n",
    "This small project will complete jobs below:\n",
    "1. Get all the similar pairs that output from LSH and SetJoin\n",
    "2. Analyze them (Know how many documents among them, verify if there is any false positive)\n",
    "3. Compare them (Is there any inclusion relationship)\n"
   ]
  },
  {
   "cell_type": "markdown",
   "id": "d16335f7-97e1-45b4-a7d8-6445915acdb0",
   "metadata": {},
   "source": [
    "## Load Similar Pairs"
   ]
  },
  {
   "cell_type": "code",
   "execution_count": 2,
   "id": "fe6601ab-79af-4b05-b8fb-5e03a3515f7f",
   "metadata": {
    "tags": []
   },
   "outputs": [
    {
     "name": "stderr",
     "output_type": "stream",
     "text": [
      "611it [00:00, 387644.80it/s]\n",
      "607it [00:00, 402202.61it/s]\n",
      "592it [00:00, 390658.90it/s]\n",
      "601it [00:00, 391181.98it/s]\n",
      "606it [00:00, 404093.52it/s]\n",
      "607it [00:00, 394169.77it/s]\n",
      "601it [00:00, 387931.16it/s]\n",
      "575it [00:00, 399226.09it/s]\n",
      "661it [00:00, 406575.00it/s]\n"
     ]
    }
   ],
   "source": [
    "import tqdm\n",
    "from glob import glob\n",
    "import argparse\n",
    "import util\n",
    "# load from LSH\n",
    "dataset_name = \"arxiv\"\n",
    "thres = 0.8\n",
    "dup_dir_path = f\"/research/projects/zp128/RedPajama_Analysis/LSH/similar_pairs/{dataset_name}_{thres}/\"\n",
    "files = glob(f\"{dup_dir_path}/*\")\n",
    "simp_lsh = set()\n",
    "for fp in files:\n",
    "    with open(fp, \"r\") as f:\n",
    "        for line in tqdm.tqdm(f):\n",
    "            pair = tuple(line.strip().split(\" :: \"))\n",
    "            # pair = tuple([part.split(\"@\")[1] for part in ori_pair])\n",
    "            if pair[0] != pair[1]:\n",
    "                simp_lsh.add((int(pair[0]), int(pair[1])))\n",
    "\n",
    "simp_lsh = util.correct_pair_order(simp_lsh)\n"
   ]
  },
  {
   "cell_type": "code",
   "execution_count": 3,
   "id": "932ef5b8-0dd0-4dd1-8078-9e91d2207a49",
   "metadata": {
    "tags": []
   },
   "outputs": [],
   "source": [
    "# load from SetJoin\n",
    "import util\n",
    "\n",
    "simpairs_bin_path = f\"/research/projects/zp128/RedPajama_Analysis/SetJoin/similar_pairs/{dataset_name}_sim_pairs_{thres:.6f}.bin\"\n",
    "idmap_bin_path = f\"/research/projects/zp128/RedPajama_Analysis/SetJoin/sorted_sets/{dataset_name}_idmap.bin\"\n",
    "\n",
    "idmap = util.read_ints_from_binary(idmap_bin_path)\n",
    "sim_pairs = util.read_pairs_from_binary(simpairs_bin_path)\n",
    "simp_setjoin = util.map_elements(sim_pairs, idmap)\n",
    "\n",
    "simp_setjoin = util.correct_pair_order(simp_setjoin)"
   ]
  },
  {
   "cell_type": "code",
   "execution_count": 9,
   "id": "4dac7417-d6a2-4d2d-b17c-afda5f0019a3",
   "metadata": {
    "tags": []
   },
   "outputs": [],
   "source": [
    "# load from OverlapJoin\n",
    "K = 32\n",
    "C = 26\n",
    "\n",
    "simpairs_bin_path = f\"/research/projects/zp128/RedPajama_Analysis/OverlapJoin/similar_pairs/{dataset_name}_simPair_K{K}_C{C}/sim_pairs.bin\"\n",
    "idmap_bin_path = f\"/research/projects/zp128/RedPajama_Analysis/OverlapJoin/similar_pairs/{dataset_name}_simPair_K{K}_C{C}/idmap.bin\"\n",
    "\n",
    "idmap = util.read_ints_from_binary(idmap_bin_path)\n",
    "sim_pairs = util.read_pairs_from_binary(simpairs_bin_path)\n",
    "simp_ovlp = util.map_elements(sim_pairs, idmap)\n",
    "\n",
    "simp_ovlp = util.correct_pair_order(simp_ovlp)"
   ]
  },
  {
   "cell_type": "markdown",
   "id": "997d02a9-6a43-4245-bb07-5411d93662a5",
   "metadata": {},
   "source": [
    "## Analyze them"
   ]
  },
  {
   "cell_type": "code",
   "execution_count": 5,
   "id": "beae8aa4-b7bf-4008-80d9-f83554bffa7c",
   "metadata": {
    "tags": []
   },
   "outputs": [],
   "source": [
    "# A function that can check the validity of the sim pairs whether meet the jaccard threshold requirement\n",
    "def check_jaccard_similarity(dataset, simp, thres):\n",
    "    # Go through each pair in simp_setjoin\n",
    "    total_invalid_pairs_amount = 0\n",
    "    for pair in simp:\n",
    "        # Calculate the Jaccard similarity of the two documents in the pair\n",
    "        jacc = util.jaccard_similarity(dataset[pair[0]], dataset[pair[1]])\n",
    "        if jacc < thres:\n",
    "#             print(jacc)\n",
    "            total_invalid_pairs_amount  = total_invalid_pairs_amount + 1\n",
    "    if total_invalid_pairs_amount == 0:\n",
    "        print(\"All pairs have Jaccard similarity >= thres\")\n",
    "    else:\n",
    "        print(f\"There are {total_invalid_pairs_amount} pairs among {len(simp)} pairs' similarity lower than threshold.\")"
   ]
  },
  {
   "cell_type": "code",
   "execution_count": 6,
   "id": "1de0e3b7-528e-4947-afd4-6954bd5cea8d",
   "metadata": {},
   "outputs": [
    {
     "name": "stdout",
     "output_type": "stream",
     "text": [
      "There are total 1558306 documents in this /research/projects/zp128/RedPajama-Data-1T/RedPajama-Data-1T/arxiv/tokenized_text_document.idx\n",
      "Setjoin finds 10695 unique documents.\n"
     ]
    }
   ],
   "source": [
    "# Load the documents of simp in setjoin\n",
    "import struct\n",
    "\n",
    "# load the real documents\n",
    "ids_setjoin = util.extract_elements(simp_setjoin)\n",
    "docs_setjoin = util.read_pajama_dataset_selected_docs(dataset_name,ids_setjoin)\n",
    "ids_setjoin_size = len(ids_setjoin)\n",
    "print(f\"Setjoin finds {ids_setjoin_size} unique documents.\")\n"
   ]
  },
  {
   "cell_type": "code",
   "execution_count": 7,
   "id": "11e87a15-ba33-4f30-8e74-91f26a5e9bf8",
   "metadata": {
    "tags": []
   },
   "outputs": [
    {
     "name": "stdout",
     "output_type": "stream",
     "text": [
      "There are total 1558306 documents in this /research/projects/zp128/RedPajama-Data-1T/RedPajama-Data-1T/arxiv/tokenized_text_document.idx\n",
      "LSH Method finds 1011 unique documents.\n",
      "There are 169 pairs among 856 pairs' similarity lower than threshold.\n"
     ]
    }
   ],
   "source": [
    "# Load the documents of simp in LSH\n",
    "ids_lsh = util.extract_elements(simp_lsh)\n",
    "docs_lsh = util.read_pajama_dataset_selected_docs(dataset_name,ids_lsh)\n",
    "ids_lsh_size = len(ids_lsh)\n",
    "print(f\"LSH Method finds {ids_lsh_size} unique documents.\")\n",
    "check_jaccard_similarity(docs_lsh,simp_lsh, thres )"
   ]
  },
  {
   "cell_type": "code",
   "execution_count": 10,
   "id": "04db15f2-61bc-4762-934e-5b950fbc8537",
   "metadata": {
    "tags": []
   },
   "outputs": [
    {
     "name": "stdout",
     "output_type": "stream",
     "text": [
      "There are total 1558306 documents in this /research/projects/zp128/RedPajama-Data-1T/RedPajama-Data-1T/arxiv/tokenized_text_document.idx\n",
      "OverlapJoin Method finds 6034 unique documents.\n",
      "There are 2873 pairs among 30903 pairs' similarity lower than threshold.\n"
     ]
    }
   ],
   "source": [
    "# Load the documents of simp in OverlapJoin\n",
    "ids_ovlp = util.extract_elements(simp_ovlp)\n",
    "docs_ovlp = util.read_pajama_dataset_selected_docs(dataset_name,ids_ovlp)\n",
    "ids_ovlp_size = len(ids_ovlp)\n",
    "print(f\"OverlapJoin Method finds {ids_ovlp_size} unique documents.\")\n",
    "check_jaccard_similarity(docs_ovlp,simp_ovlp, thres )"
   ]
  },
  {
   "cell_type": "markdown",
   "id": "5fe985c1-5e91-4e73-8c06-00b38d6b3cb4",
   "metadata": {
    "tags": []
   },
   "source": [
    "## Compare them"
   ]
  },
  {
   "cell_type": "markdown",
   "id": "6d7f2c7d-bbc1-4145-b150-a723dee7a459",
   "metadata": {
    "tags": []
   },
   "source": [
    "### SetJoin VS LSH"
   ]
  },
  {
   "cell_type": "code",
   "execution_count": 15,
   "id": "957133da-f285-463c-a9f8-dc49fe075dd0",
   "metadata": {
    "tags": []
   },
   "outputs": [
    {
     "name": "stdout",
     "output_type": "stream",
     "text": [
      "Now Analyze the property of there similar pairs\n",
      "There are 3319410 pairs in simp_setjoin\n",
      "There are 856 pairs in simp_lsh\n",
      "The union of two sets includes 3319584 unique pairs.\n",
      "The intersection of two sets includes 682 common pairs.\n",
      "The difference  of two sets(B - A) includes 3318728 common pairs.\n"
     ]
    }
   ],
   "source": [
    "print(\"Now Analyze the property of there similar pairs\")\n",
    "print(f\"There are {len(simp_setjoin)} pairs in simp_setjoin\")\n",
    "print(f\"There are {len(simp_lsh)} pairs in simp_lsh\")\n",
    "\n",
    "union_set = simp_setjoin.union(simp_lsh)\n",
    "union_size = len(union_set)\n",
    "print(f\"The union of two sets includes {union_size} unique pairs.\")\n",
    "\n",
    "# Intersection\n",
    "intersection_set = simp_setjoin.intersection(simp_lsh)\n",
    "intersection_size = len(intersection_set)\n",
    "print(f\"The intersection of two sets includes {intersection_size} common pairs.\")\n",
    "\n",
    "# Difference\n",
    "difference_set = simp_setjoin.difference(simp_lsh)  # B - A\n",
    "difference_size = len(difference_set)\n",
    "print(f\"The difference  of two sets(B - A) includes {difference_size} common pairs.\")\n"
   ]
  },
  {
   "cell_type": "code",
   "execution_count": 16,
   "id": "f4d3a575-c1b3-4193-bac8-bc2f89b3f073",
   "metadata": {},
   "outputs": [
    {
     "name": "stdout",
     "output_type": "stream",
     "text": [
      "Now Analyze the property of their documents\n",
      "There are 10695 documents in simp_setjoin\n",
      "There are 1011 documents in simp_lsh\n",
      "The union of two sets includes 10912 documents.\n",
      "The intersection of two sets includes 794 common documents.\n",
      "The difference  of two sets(B - A) includes 9901 common documents.\n"
     ]
    }
   ],
   "source": [
    "print(\"Now Analyze the property of their documents\")\n",
    "print(f\"There are {len(ids_setjoin)} documents in simp_setjoin\")\n",
    "print(f\"There are {len(ids_lsh)} documents in simp_lsh\")\n",
    "\n",
    "union_set = ids_setjoin.union(ids_lsh)\n",
    "union_size = len(union_set)\n",
    "print(f\"The union of two sets includes {union_size} documents.\")\n",
    "\n",
    "# Intersection\n",
    "intersection_set = ids_setjoin.intersection(ids_lsh)\n",
    "intersection_size = len(intersection_set)\n",
    "print(f\"The intersection of two sets includes {intersection_size} common documents.\")\n",
    "\n",
    "# Difference\n",
    "difference_set = ids_setjoin.difference(ids_lsh)  # B - A\n",
    "difference_size = len(difference_set)\n",
    "print(f\"The difference  of two sets(B - A) includes {difference_size} common documents.\")"
   ]
  },
  {
   "cell_type": "markdown",
   "id": "98da3b08-e208-4745-b2ce-9366e1eb94b4",
   "metadata": {},
   "source": [
    "### SetJoin vs OverlapJoin"
   ]
  },
  {
   "cell_type": "code",
   "execution_count": 17,
   "id": "3ecf8ae7-ef40-45f9-b94f-fcd92ba496c5",
   "metadata": {
    "tags": []
   },
   "outputs": [
    {
     "name": "stdout",
     "output_type": "stream",
     "text": [
      "Now Analyze the property of there similar pairs\n",
      "There are 3319410 pairs in simp_setjoin\n",
      "There are 30903 pairs in simp_ovlp\n",
      "The union of two sets includes 3322770 unique pairs.\n",
      "The intersection of two sets includes 27543 common pairs.\n",
      "The difference  of two sets(B - A) includes 3291867 common pairs.\n"
     ]
    }
   ],
   "source": [
    "print(\"Now Analyze the property of there similar pairs\")\n",
    "print(f\"There are {len(simp_setjoin)} pairs in simp_setjoin\")\n",
    "print(f\"There are {len(simp_ovlp)} pairs in simp_ovlp\")\n",
    "\n",
    "union_set = simp_setjoin.union(simp_ovlp)\n",
    "union_size = len(union_set)\n",
    "print(f\"The union of two sets includes {union_size} unique pairs.\")\n",
    "\n",
    "# Intersection\n",
    "intersection_set = simp_setjoin.intersection(simp_ovlp)\n",
    "intersection_size = len(intersection_set)\n",
    "print(f\"The intersection of two sets includes {intersection_size} common pairs.\")\n",
    "\n",
    "# Difference\n",
    "difference_set = simp_setjoin.difference(simp_ovlp)  # B - A\n",
    "difference_size = len(difference_set)\n",
    "print(f\"The difference  of two sets(B - A) includes {difference_size} common pairs.\")"
   ]
  },
  {
   "cell_type": "code",
   "execution_count": 18,
   "id": "1011ec68-6145-470a-a0d2-69dfcba61987",
   "metadata": {
    "tags": []
   },
   "outputs": [
    {
     "name": "stdout",
     "output_type": "stream",
     "text": [
      "Now Analyze the property of their documents\n",
      "There are 10695 documents in simp_setjoin\n",
      "There are 6034 documents in simp_lsh\n",
      "The union of two sets includes 12664 documents.\n",
      "The intersection of two sets includes 4065 common documents.\n",
      "The difference  of two sets(B - A) includes 6630 common documents.\n"
     ]
    }
   ],
   "source": [
    "print(\"Now Analyze the property of their documents\")\n",
    "print(f\"There are {len(ids_setjoin)} documents in simp_setjoin\")\n",
    "print(f\"There are {len(ids_ovlp)} documents in simp_lsh\")\n",
    "\n",
    "union_set = ids_setjoin.union(ids_ovlp)\n",
    "union_size = len(union_set)\n",
    "print(f\"The union of two sets includes {union_size} documents.\")\n",
    "\n",
    "# Intersection\n",
    "intersection_set = ids_setjoin.intersection(ids_ovlp)\n",
    "intersection_size = len(intersection_set)\n",
    "print(f\"The intersection of two sets includes {intersection_size} common documents.\")\n",
    "\n",
    "# Difference\n",
    "difference_set = ids_setjoin.difference(ids_ovlp)  # B - A\n",
    "difference_size = len(difference_set)\n",
    "print(f\"The difference  of two sets(B - A) includes {difference_size} common documents.\")"
   ]
  },
  {
   "cell_type": "code",
   "execution_count": null,
   "id": "1760fb26-60b8-4716-a38b-f52d98576f32",
   "metadata": {},
   "outputs": [],
   "source": []
  }
 ],
 "metadata": {
  "kernelspec": {
   "display_name": "Python 3 (ipykernel)",
   "language": "python",
   "name": "python3"
  },
  "language_info": {
   "codemirror_mode": {
    "name": "ipython",
    "version": 3
   },
   "file_extension": ".py",
   "mimetype": "text/x-python",
   "name": "python",
   "nbconvert_exporter": "python",
   "pygments_lexer": "ipython3",
   "version": "3.10.8"
  }
 },
 "nbformat": 4,
 "nbformat_minor": 5
}
