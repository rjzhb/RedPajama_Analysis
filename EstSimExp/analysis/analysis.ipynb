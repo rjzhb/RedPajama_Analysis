{
 "cells": [
  {
   "cell_type": "markdown",
   "id": "a506bc52-857c-4429-9c04-9010aff2cd5d",
   "metadata": {
    "tags": []
   },
   "source": [
    "# Anaylze CSV File"
   ]
  },
  {
   "cell_type": "code",
   "execution_count": null,
   "id": "c6cf0b78-dceb-4ccd-890b-3c4bf7d8ca57",
   "metadata": {
    "tags": []
   },
   "outputs": [],
   "source": [
    "import pandas as pd\n",
    "\n",
    "\n",
    "import pandas as pd\n",
    "import matplotlib.pyplot as plt\n",
    "\n",
    "csv_path = \"../csv/arxiv_128.csv\" \n",
    "\n",
    "# Load the CSV file into a pandas DataFrame\n",
    "df = pd.read_csv(csv_path)\n",
    "\n",
    "# Assuming the first column is your reference column\n",
    "ref_col = df.iloc[:, 0]\n",
    "\n",
    "# Plot the distribution of differences for each of the next four columns\n",
    "for i in range(1, 5):\n",
    "    diff = ref_col - df.iloc[:, i]\n",
    "    \n",
    "    # Get the distribution of differences\n",
    "    diff_counts = diff.value_counts().sort_index()\n",
    "    \n",
    "    # Plot the bar chart\n",
    "    plt.figure()\n",
    "    diff_counts.plot(kind='bar')\n",
    "    plt.title(f\"Difference Distribution: {df.columns[0]} - {df.columns[i]}\")\n",
    "    plt.xlabel('Difference')\n",
    "    plt.ylabel('Count')\n",
    "    plt.show()\n",
    "\n"
   ]
  },
  {
   "cell_type": "code",
   "execution_count": null,
   "id": "c30e3730-ea3e-49e1-927f-cbdcc57091fa",
   "metadata": {},
   "outputs": [],
   "source": []
  }
 ],
 "metadata": {
  "kernelspec": {
   "display_name": "Python 3 (ipykernel)",
   "language": "python",
   "name": "python3"
  },
  "language_info": {
   "codemirror_mode": {
    "name": "ipython",
    "version": 3
   },
   "file_extension": ".py",
   "mimetype": "text/x-python",
   "name": "python",
   "nbconvert_exporter": "python",
   "pygments_lexer": "ipython3",
   "version": "3.10.8"
  }
 },
 "nbformat": 4,
 "nbformat_minor": 5
}
